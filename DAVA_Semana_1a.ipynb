{
  "nbformat": 4,
  "nbformat_minor": 0,
  "metadata": {
    "colab": {
      "name": "DAVA_Semana_1a.ipynb",
      "provenance": [],
      "collapsed_sections": []
    },
    "kernelspec": {
      "name": "python3",
      "display_name": "Python 3"
    }
  },
  "cells": [
    {
      "cell_type": "markdown",
      "metadata": {
        "id": "Rk2Qw0cSTzxH"
      },
      "source": [
        "# Desarrollo de Aplicaciones con Visión Artificial: Semana 1a\n",
        "\n",
        "En este notebook aprenderás a segmentar objetos utilizando el espacio de color HSV y la librería OpenCV."
      ]
    },
    {
      "cell_type": "markdown",
      "metadata": {
        "id": "aU7L-oNMkeAq"
      },
      "source": [
        "## OpenCV\n",
        "\n",
        "Es una librería open source que proporciona las herramientas necesarias para resolver problemas de visión artificial mediante una combinación de funciones de procesamiento de imágenes de bajo nivel y algoritmos de alto nivel, como detección de rostros, deteccióón de peatones, entre otros."
      ]
    },
    {
      "cell_type": "code",
      "metadata": {
        "id": "yJaFt9o0lz3j"
      },
      "source": [
        "!pip install opencv-python"
      ],
      "execution_count": null,
      "outputs": []
    },
    {
      "cell_type": "code",
      "metadata": {
        "id": "eCAvKfw5nrTv"
      },
      "source": [
        "import cv2\n",
        "cv2.__version__"
      ],
      "execution_count": null,
      "outputs": []
    },
    {
      "cell_type": "markdown",
      "metadata": {
        "id": "3NR8XomhP6GB"
      },
      "source": [
        "## Lectura de imágenes y espacios de color \n",
        "\n",
        "Ejecutamos los siguientes comandos para obtener un conjunto de datos de imágenes.\n"
      ]
    },
    {
      "cell_type": "code",
      "metadata": {
        "id": "mdiwXRveNOlb"
      },
      "source": [
        "!wget https://github.com/vision-artificial-pucp/invierno-2021/raw/main/centro1.jpg"
      ],
      "execution_count": null,
      "outputs": []
    },
    {
      "cell_type": "markdown",
      "metadata": {
        "id": "e6DqcBtlQ0dg"
      },
      "source": [
        "Ahora debería existir un directorio llamado \"Imagenes\". El siguiente comando debería mostrarnos todas las imágenes del directorio"
      ]
    },
    {
      "cell_type": "markdown",
      "metadata": {
        "id": "r5FhQWrFRNfK"
      },
      "source": [
        "Para la mayor parte del trabajo que realizaremos sobre las imágenes, usaremos la librería OpenCV, además usaremos Numpy y Matplotlib para mostrar las imágenes."
      ]
    },
    {
      "cell_type": "code",
      "metadata": {
        "id": "Ls91hqUoRA5J"
      },
      "source": [
        "import matplotlib.pyplot as plt\n",
        "import numpy as np"
      ],
      "execution_count": 4,
      "outputs": []
    },
    {
      "cell_type": "markdown",
      "metadata": {
        "id": "K9lctgVFSF4F"
      },
      "source": [
        "Leemos una imagen y la mostramos."
      ]
    },
    {
      "cell_type": "code",
      "metadata": {
        "id": "kdwTI5PqRxnm"
      },
      "source": [
        "img = cv2.imread('centro1.jpg')\n",
        "print(img.shape)\n",
        "plt.figure(figsize=(10,10)) # Se crea una figura con un tamaño definido en pulgadas\n",
        "plt.imshow(img) # datos a imagen\n",
        "plt.show() # mostrar imagen"
      ],
      "execution_count": null,
      "outputs": []
    },
    {
      "cell_type": "markdown",
      "metadata": {
        "id": "mnkuddgVTSFo"
      },
      "source": [
        "La imagen no se muestra como esperamos. Esto se debe a que OpenCV lee las imágenes a color en el orden BGR, es decir primero el canal azul, luego el canal  verde y finalmente el canal rojo. Cuando enviamos esta imagen a dibujar, Matplotlib cree que la imagen está en formato RGB. Para solucionar esto podemos hacer un cambio en los canales de color."
      ]
    },
    {
      "cell_type": "code",
      "metadata": {
        "id": "Jzlir7pOSviS"
      },
      "source": [
        "img = cv2.cvtColor(img, cv2.COLOR_BGR2RGB) # Forma 1\n",
        "#img = img[:,:,[2, 1, 0]] # Forma 2\n",
        "#img = img[:,:,::-1] # Forma 3\n",
        "\n",
        "plt.figure(figsize=(10,10)) \n",
        "plt.imshow(img) \n",
        "plt.show() \n",
        "\n",
        "print('Color en el pixel 50,50:', img[50,50,:])"
      ],
      "execution_count": null,
      "outputs": []
    },
    {
      "cell_type": "markdown",
      "metadata": {
        "id": "_ji-yTanU_gv"
      },
      "source": [
        "Por defecto las imágenes están en el espacio de color RGB. Sin embargo, al momento de procesarlas, otros espacios de color pueden ser más útiles. Por ejemplo, muchos de las técnicas clásicas de visión computacional trabajan sobre imágenes en escalas de grises."
      ]
    },
    {
      "cell_type": "code",
      "metadata": {
        "id": "2XMc5kliUZjY"
      },
      "source": [
        "# Convertir imagen a escala de grises\n",
        "imgGray = cv2.cvtColor(img, cv2.COLOR_RGB2GRAY)\n",
        "plt.figure(figsize=(10,10)) \n",
        "plt.imshow(imgGray, cmap='gray')\n",
        "plt.show()"
      ],
      "execution_count": null,
      "outputs": []
    },
    {
      "cell_type": "code",
      "metadata": {
        "id": "KK76fHtjA7ew"
      },
      "source": [
        "# Alternativamente, uno puede leer la imagen como escala de grises así:\n",
        "# imgGray = cv2.imread('centro1.jpg',0)"
      ],
      "execution_count": null,
      "outputs": []
    },
    {
      "cell_type": "markdown",
      "metadata": {
        "id": "4UVW1azJJ4vk"
      },
      "source": [
        "Ahora utilizaremos el espacio de color HSV para seleccionar los pixeles de la imagen que tienen un color específico. Primero convertimos la imagen a HSV y calculamos cuál es el color HSV que queremos seleccionar."
      ]
    },
    {
      "cell_type": "code",
      "metadata": {
        "id": "5EOxSQ3mHlfG"
      },
      "source": [
        "# Convertimos imagen a espacio de color HSV\n",
        "imgHSV = cv2.cvtColor(img, cv2.COLOR_RGB2HSV)\n"
      ],
      "execution_count": 8,
      "outputs": []
    },
    {
      "cell_type": "code",
      "metadata": {
        "id": "muLW1Zr8KDjL"
      },
      "source": [
        "# Creamos un pixel de color y lo convertimos a HSV\n",
        "amarillo = np.uint8([[[255, 255, 0]]])\n",
        "\n",
        "amarilloHSV = cv2.cvtColor(amarillo, cv2.COLOR_RGB2HSV)\n",
        "print(amarilloHSV)"
      ],
      "execution_count": null,
      "outputs": []
    },
    {
      "cell_type": "code",
      "metadata": {
        "id": "swAL--G7Dq9Y"
      },
      "source": [
        "# H in [0, 179]  => 8 bits => samplear angulos cada 2 grados\n",
        "# S\n",
        "# V\n",
        "\n",
        "# Creamos una paleta de colores HSV\n",
        "paleta = np.zeros((180, 100, 3), np.uint8)\n",
        "\n",
        "for i in range(0, 180):\n",
        "  for j in range(0, 100):\n",
        "    paleta[i,j,0] = i\n",
        "    paleta[i,j,1] = 255\n",
        "    paleta[i,j,2] = 255\n",
        "\n",
        "paletaRGB = cv2.cvtColor(paleta, cv2.COLOR_HSV2RGB)\n",
        "\n",
        "plt.imshow(paletaRGB)\n",
        "plt.show()"
      ],
      "execution_count": null,
      "outputs": []
    },
    {
      "cell_type": "markdown",
      "metadata": {
        "id": "BsC6Dl8WbIOL"
      },
      "source": [
        "Como vemos, hemos seleccionado el color amarilo (en RGB) y lo hemos convertido a HSV. Recuerda que el primer componente es la cromaticidad (30), el segundo componente es la saturación (255) y el tercer componente es la luminosidad (255).\n",
        "\n",
        "Si nosotros queremos seleccionar el color amarillo en la imagen, neesitamos definir el mínimo y máximo amarillo en HSV. Esto es fácil solo basta con variar primero el Hue y definir los valores correctos de saturación para permitir amarillos más claros o oscuros."
      ]
    },
    {
      "cell_type": "code",
      "metadata": {
        "id": "sgZQI6E_aCgW"
      },
      "source": [
        "imgHSV = cv2.cvtColor(img, cv2.COLOR_RGB2HSV)\n",
        "lower_amarillo = np.array([20, 50, 0])\n",
        "upper_amarillo = np.array([40, 255, 255])\n",
        "\n",
        "# Buscamos todos los pixeles que estan entre el minimo y maximo amarillo\n",
        "mask = cv2.inRange(imgHSV, lower_amarillo, upper_amarillo)\n",
        "\n",
        "# Obtenemos solo los pixeles que tienen las propiedades definidas\n",
        "res = cv2.bitwise_and(img, img, mask = mask)\n",
        "\n",
        "plt.figure(figsize=(15,15))\n",
        "plt.subplot(1,2,1)\n",
        "plt.imshow(mask, cmap='gray')\n",
        "plt.subplot(1,2,2)\n",
        "plt.imshow(res)\n",
        "plt.show()"
      ],
      "execution_count": null,
      "outputs": []
    },
    {
      "cell_type": "markdown",
      "metadata": {
        "id": "bT6eOOJoa3oB"
      },
      "source": [
        "## Ejercicio 1\n",
        "\n",
        "En análisis de imágenes médicas, las imágenes de células sanguíneas en tejidos del estómago revelan la presencia de leucocitos atrofiados. Esta presencia indica una alta probabilidad de padecer de cáncer. Las células atrofiadas presentan un color azulado profundo que se diferencia del resto de células de la imagen. Utilizar análisis de espacio de colores para segmentar las células atrofiadas."
      ]
    },
    {
      "cell_type": "code",
      "metadata": {
        "id": "aVgvpDET78k0"
      },
      "source": [
        "!wget https://github.com/vision-artificial-pucp/invierno-2021/raw/main/pathology_cll20x01.jpg\n",
        "!wget https://github.com/vision-artificial-pucp/invierno-2021/raw/main/pathology_cll40x03.jpg"
      ],
      "execution_count": null,
      "outputs": []
    },
    {
      "cell_type": "code",
      "metadata": {
        "id": "7M-2sq_naTrk"
      },
      "source": [
        "img1 = cv2.imread('pathology_cll20x01.jpg')\n",
        "img2 = cv2.imread('pathology_cll40x03.jpg')\n",
        "\n",
        "img1 = cv2.cvtColor(img1, cv2.COLOR_BGR2RGB)\n",
        "img2 = cv2.cvtColor(img2, cv2.COLOR_BGR2RGB)\n",
        "\n",
        "plt.figure(figsize=(15,15))\n",
        "plt.subplot(2, 1, 1), plt.imshow(img1)\n",
        "plt.subplot(2, 1, 2), plt.imshow(img2)\n",
        "plt.show()"
      ],
      "execution_count": null,
      "outputs": []
    }
  ]
}