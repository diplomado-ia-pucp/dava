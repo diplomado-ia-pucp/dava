{
  "nbformat": 4,
  "nbformat_minor": 0,
  "metadata": {
    "colab": {
      "name": "DAVA_Semana_1b.ipynb",
      "provenance": [],
      "collapsed_sections": [],
      "toc_visible": true
    },
    "kernelspec": {
      "name": "python3",
      "display_name": "Python 3"
    }
  },
  "cells": [
    {
      "cell_type": "markdown",
      "metadata": {
        "id": "Rk2Qw0cSTzxH"
      },
      "source": [
        "# Desarrollo de Aplicaciones con Visión Artificial: Semana 1b\n",
        "\n",
        "En este notebook aprenderás a implementar transformaciones geométricas sobre una imagen."
      ]
    },
    {
      "cell_type": "markdown",
      "metadata": {
        "id": "prPBWrENfWGN"
      },
      "source": [
        "## Transformación de imágenes\n",
        "\n",
        "Operaciones comunes en visión artificial son transformar las imágenes. Veamos como rotamos una imagen usando una matriz de transformación e\n",
        "interpolación bilineal."
      ]
    },
    {
      "cell_type": "code",
      "metadata": {
        "id": "shqrUlLwDnbu"
      },
      "source": [
        "!wget https://github.com/vision-artificial-pucp/invierno-2021/raw/main/cameraman.tif"
      ],
      "execution_count": null,
      "outputs": []
    },
    {
      "cell_type": "code",
      "metadata": {
        "id": "e0Q0G72lD3a8"
      },
      "source": [
        "import cv2\n",
        "import numpy as np\n",
        "import matplotlib.pyplot as plt\n",
        "import math"
      ],
      "execution_count": 7,
      "outputs": []
    },
    {
      "cell_type": "code",
      "metadata": {
        "id": "V_dEXSYfg4FE"
      },
      "source": [
        "def interpolar(I, coord):\n",
        "    if coord[0] < 0 or coord[0] >(I.shape[1]-1) or coord[1] < 0 or coord[1] > (I.shape[0] - 1):\n",
        "        return 0\n",
        "    \n",
        "    minx = math.floor(coord[0])\n",
        "    maxx = math.ceil(coord[0])\n",
        "    miny = math.floor(coord[1])\n",
        "    maxy = math.ceil(coord[1])\n",
        "    \n",
        "    dx = coord[0] - minx\n",
        "    dy = coord[1] - miny\n",
        "    \n",
        "    val1 = I[miny,minx]\n",
        "    val2 = I[miny,maxx]\n",
        "    val3 = I[maxy,maxx]\n",
        "    val4 = I[maxy,minx]\n",
        "    \n",
        "    val11 = val1*(1-dx) + dx*val2\n",
        "    val22 = val4*(1-dx) + dx*val3\n",
        "    \n",
        "    return val22*(1-dy) + dy*val11\n",
        "\n",
        "def rotarImagen(I, centro, angulo, dim_salida):\n",
        "    salida = np.zeros(dim_salida, dtype=np.uint8)\n",
        "    angle = np.radians(angulo)\n",
        "    \n",
        "    T1 = np.array([[1.0, 0.0, -centro[0]],[0.0, 1.0, -centro[1]],[0.0, 0.0, 1.0]])\n",
        "    T2 = np.array([[np.cos(angle), np.sin(angle), 0.0],[-np.sin(angle), np.cos(angle), 0.0],[0.0, 0.0, 1.0]])\n",
        "    T3 = np.array([[1.0, 0.0, centro[0]],[0.0, 1.0, centro[1]],[0.0, 0.0, 1.0]])\n",
        "    \n",
        "    T = T3 @ T2 @ T1\n",
        "    T = np.linalg.inv(T)\n",
        "        \n",
        "    #Iteramos sobre las posiciones de la salida\n",
        "    for i in range(salida.shape[0]):\n",
        "        for j in range(salida.shape[1]):\n",
        "            coord = np.zeros((3,1), dtype=np.float)\n",
        "            coord[0] = j\n",
        "            coord[1] = i\n",
        "            coord[2] = 1.0\n",
        "            new_coord = T @ coord\n",
        "            salida[i,j] = interpolar(I, new_coord)\n",
        "    \n",
        "    return salida"
      ],
      "execution_count": 3,
      "outputs": []
    },
    {
      "cell_type": "code",
      "metadata": {
        "id": "0SYcnbFDChal"
      },
      "source": [
        "im = cv2.imread('cameraman.tif',0)\n",
        "\n",
        "rows, cols = im.shape\n",
        "im2 = rotarImagen(im, centro=(cols/2, rows/2), angulo=45, dim_salida=(rows, cols))\n",
        "\n",
        "plt.figure(figsize=(10,10))\n",
        "plt.subplot(1,2,1), plt.imshow(im, cmap='gray')\n",
        "plt.subplot(1,2,2), plt.imshow(im2, cmap='gray')\n",
        "plt.show()"
      ],
      "execution_count": null,
      "outputs": []
    },
    {
      "cell_type": "markdown",
      "metadata": {
        "id": "crWv0rZYhPNz"
      },
      "source": [
        "Podemos aplicar implementaciones más eficientes como las de OpenCV. Por ejemplo, veamos cómo escalar y rotar una imagen."
      ]
    },
    {
      "cell_type": "code",
      "metadata": {
        "id": "XYs3duIMfoIM"
      },
      "source": [
        "img = cv2.imread('cameraman.tif')\n",
        "print(img.shape)\n",
        "\n",
        "result = cv2.resize(img, None, fx=2, fy=2, interpolation=cv2.INTER_CUBIC)\n",
        "print(result.shape)"
      ],
      "execution_count": null,
      "outputs": []
    },
    {
      "cell_type": "markdown",
      "metadata": {
        "id": "89P0j4urgNyG"
      },
      "source": [
        "Y la operación de rotación."
      ]
    },
    {
      "cell_type": "code",
      "metadata": {
        "id": "-QgMaq9mf-hR"
      },
      "source": [
        "rows, cols, _ = img.shape\n",
        "\n",
        "M = cv2.getRotationMatrix2D((cols/2, rows/2), 45, 1)\n",
        "# Sirve para rotacion, escala, traslacion y shear\n",
        "result = cv2.warpAffine(img, M, (cols, rows))\n",
        "\n",
        "plt.figure(figsize=(10,10))\n",
        "plt.subplot(1, 2, 1), plt.imshow(img)\n",
        "plt.subplot(1, 2, 2), plt.imshow(result)\n",
        "plt.show()"
      ],
      "execution_count": null,
      "outputs": []
    },
    {
      "cell_type": "markdown",
      "metadata": {
        "id": "K_7TZ9TWtRh2"
      },
      "source": [
        "Una transformación más general es la transformación en perspectiva que permite corregir objetos con deformaciones más complejas."
      ]
    },
    {
      "cell_type": "code",
      "metadata": {
        "id": "B8ZBL7tEFiwl"
      },
      "source": [
        "!wget https://github.com/vision-artificial-pucp/invierno-2021/raw/main/documento.jpg"
      ],
      "execution_count": null,
      "outputs": []
    },
    {
      "cell_type": "code",
      "metadata": {
        "id": "I1NJUoDDtdwm"
      },
      "source": [
        "#Leemos la imagen a corregir\n",
        "img = cv2.imread('documento.jpg')\n",
        "img = img[:,:,::-1]\n",
        "\n",
        "plt.figure(figsize=(10,10))\n",
        "plt.imshow(img)\n",
        "plt.show()"
      ],
      "execution_count": null,
      "outputs": []
    },
    {
      "cell_type": "code",
      "metadata": {
        "id": "gcoDkYH1twD4"
      },
      "source": [
        "# Definimos los puntos de las esquinas del papel\n",
        "# Dibujamos los puntos y el poligono en la imagen\n",
        "puntos = np.float32([[731, 1158],[2398, 1138],[3047, 3778], [132, 3839]])\n",
        "\n",
        "imgDibujo = img.copy()\n",
        "\n",
        "for i in range(0, 4):\n",
        "  cv2.circle(imgDibujo, tuple(puntos[i]), 30, (255,0,0), -1)\n",
        "\n",
        "pts = puntos.reshape((-1,1,2))\n",
        "cv2.polylines(imgDibujo, [pts.astype(np.int32)], True, (0,255,0), thickness=10)\n",
        "\n",
        "plt.figure(figsize=(10,10))\n",
        "plt.imshow(imgDibujo)\n",
        "plt.show()"
      ],
      "execution_count": null,
      "outputs": []
    },
    {
      "cell_type": "code",
      "metadata": {
        "id": "aZovALK0uVXL"
      },
      "source": [
        "width = 500\n",
        "height = 700\n",
        "\n",
        "# Hacemos la transformacion\n",
        "target = np.float32([[0,0],[width,0],[width,height],[0,height]])\n",
        "\n",
        "matrix = cv2.getPerspectiveTransform(puntos, target)\n",
        "result = cv2.warpPerspective(img, matrix, (width,height))\n",
        "\n",
        "plt.figure(figsize=(10,10))\n",
        "plt.imshow(result)\n",
        "plt.show()"
      ],
      "execution_count": null,
      "outputs": []
    },
    {
      "cell_type": "markdown",
      "metadata": {
        "id": "EjTHV8QKyGsx"
      },
      "source": [
        "## Ejercicio 2\n",
        "\n",
        "* Crear una función que realice un flip horizontal sobre una imagen.\n",
        "* Crear una función que realice un flip vertical sobre una imagen."
      ]
    },
    {
      "cell_type": "code",
      "metadata": {
        "id": "825x9nvuI_87"
      },
      "source": [
        "img = cv2.imread('cameraman.tif')\n",
        "\n",
        "#flip_vertical = ...\n",
        "#flip_horizontal = ...\n",
        "\n",
        "plt.figure(figsize=(10,10))\n",
        "plt.subplot(1,3,1), plt.imshow(img)\n",
        "plt.subplot(1,3,2), plt.imshow(flip_vertical)\n",
        "plt.subplot(1,3,3), plt.imshow(flip_horizontal)\n",
        "plt.show()"
      ],
      "execution_count": null,
      "outputs": []
    }
  ]
}